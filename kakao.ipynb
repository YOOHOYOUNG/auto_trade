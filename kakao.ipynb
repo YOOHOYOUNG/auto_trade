{
 "cells": [
  {
   "cell_type": "code",
   "execution_count": 21,
   "metadata": {},
   "outputs": [],
   "source": [
    "import os\n",
    "import asyncio\n",
    "import telegram\n",
    "from dotenv import load_dotenv\n",
    "\n",
    "load_dotenv()\n",
    "\n",
    "async def main():\n",
    "    token = os.getenv('TELEGRAM_API_KEY')\n",
    "    bot = telegram.Bot(token)\n",
    "    await bot.send_message(chat_id=os.getenv('TELEGRAM_CHAT_ID'), text=decision)\n",
    "\n",
    "# 현재 실행 중인 이벤트 루프를 얻습니다.\n",
    "loop = asyncio.get_event_loop()\n",
    "\n",
    "# 이벤트 루프가 실행 중이지 않은 경우 main() 코루틴을 실행합니다.\n",
    "if not loop.is_running():\n",
    "    loop.run_until_complete(main())\n",
    "else:\n",
    "    # 이미 실행 중인 이벤트 루프에 main() 코루틴을 스케줄링합니다.\n",
    "    asyncio.create_task(main())"
   ]
  },
  {
   "cell_type": "code",
   "execution_count": 26,
   "metadata": {},
   "outputs": [],
   "source": [
    "import os\n",
    "from dotenv import load_dotenv\n",
    "load_dotenv()\n",
    "import pyupbit\n",
    "import pandas as pd\n",
    "import pandas_ta as ta\n",
    "import json\n",
    "from openai import OpenAI\n",
    "import schedule\n",
    "import time\n",
    "import asyncio\n",
    "import telegram\n",
    "upbit = pyupbit.Upbit(os.getenv(\"UPBIT_ACCESS_KEY\"), os.getenv(\"UPBIT_SECRET_KEY\"))\n",
    "btt = upbit.get_balance(\"KRW-BTT\")\n",
    "current_price = pyupbit.get_orderbook(ticker=\"KRW-BTT\")['orderbook_units'][0][\"ask_price\"]"
   ]
  },
  {
   "cell_type": "code",
   "execution_count": 42,
   "metadata": {},
   "outputs": [
    {
     "data": {
      "text/plain": [
       "0.002021"
      ]
     },
     "execution_count": 42,
     "metadata": {},
     "output_type": "execute_result"
    }
   ],
   "source": [
    "current_price = pyupbit.get_orderbook(ticker=\"KRW-BTT\")['orderbook_units'][0][\"ask_price\"]\n",
    "current_price "
   ]
  },
  {
   "cell_type": "code",
   "execution_count": 45,
   "metadata": {},
   "outputs": [
    {
     "name": "stdout",
     "output_type": "stream",
     "text": [
      "InsufficientFundsAsk\n"
     ]
    }
   ],
   "source": [
    "btt = upbit.get_balance(\"BTT\")\n",
    "result = upbit.sell_market_order(\"KRW-BTT\", btt)\n",
    "result"
   ]
  },
  {
   "cell_type": "code",
   "execution_count": null,
   "metadata": {},
   "outputs": [],
   "source": [
    "! pip install python-telegram-bot"
   ]
  }
 ],
 "metadata": {
  "kernelspec": {
   "display_name": "gpt-bitcoin_py39",
   "language": "python",
   "name": "python3"
  },
  "language_info": {
   "codemirror_mode": {
    "name": "ipython",
    "version": 3
   },
   "file_extension": ".py",
   "mimetype": "text/x-python",
   "name": "python",
   "nbconvert_exporter": "python",
   "pygments_lexer": "ipython3",
   "version": "3.9.0"
  }
 },
 "nbformat": 4,
 "nbformat_minor": 2
}
